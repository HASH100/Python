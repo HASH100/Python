{
 "cells": [
  {
   "cell_type": "markdown",
   "metadata": {
    "colab_type": "text",
    "id": "me4thfXtzlEE"
   },
   "source": [
    "# **What is a Python NumPy?**\n",
    "NumPy is a Python package which stands for ‘Numerical Python’. It is the core library for scientific computing, which contains a powerful n-dimensional array object, provide tools for integrating C, C++ etc. It is also useful in linear algebra, random number capability etc. \n",
    "\n",
    "NumPy array can also be used as an efficient multi-dimensional container for generic data. Now, let me tell you what exactly is a python numpy array.\n",
    "\n",
    "Numpy array is a powerful N-dimensional array object which is in the form of rows and columns. We can initialize numpy arrays from nested Python lists and access it elements."
   ]
  },
  {
   "cell_type": "code",
   "execution_count": null,
   "metadata": {
    "colab": {
     "base_uri": "https://localhost:8080/",
     "height": 33
    },
    "colab_type": "code",
    "executionInfo": {
     "elapsed": 1250,
     "status": "ok",
     "timestamp": 1577702756396,
     "user": {
      "displayName": "Charandeep Singh",
      "photoUrl": "https://lh3.googleusercontent.com/a-/AAuE7mDJQaf9BHvx8z07MLa1IleXr0zjtIHUpXW_rl4UiA=s64",
      "userId": "12309980940287693275"
     },
     "user_tz": -330
    },
    "id": "pVB7CrNu0VRN",
    "outputId": "d7dc1b9b-4ec4-4233-faad-dff804dfd78c"
   },
   "outputs": [
    {
     "name": "stdout",
     "output_type": "stream",
     "text": [
      "[1 2 3]\n"
     ]
    }
   ],
   "source": [
    "#Single-dimensional Numpy Array:\n",
    "import numpy as np\n",
    "a=np.array([1,2,3])\n",
    "print(a)"
   ]
  },
  {
   "cell_type": "code",
   "execution_count": null,
   "metadata": {
    "colab": {
     "base_uri": "https://localhost:8080/",
     "height": 50
    },
    "colab_type": "code",
    "executionInfo": {
     "elapsed": 1484,
     "status": "ok",
     "timestamp": 1577702769967,
     "user": {
      "displayName": "Charandeep Singh",
      "photoUrl": "https://lh3.googleusercontent.com/a-/AAuE7mDJQaf9BHvx8z07MLa1IleXr0zjtIHUpXW_rl4UiA=s64",
      "userId": "12309980940287693275"
     },
     "user_tz": -330
    },
    "id": "GbbBWk5U0cwx",
    "outputId": "e86ebe79-d563-46e5-a767-e7255c469382"
   },
   "outputs": [
    {
     "name": "stdout",
     "output_type": "stream",
     "text": [
      "[[1 2 3]\n",
      " [4 5 6]]\n"
     ]
    }
   ],
   "source": [
    "#Multi-dimensional Array:\n",
    "a=np.array([(1,2,3),(4,5,6)])\n",
    "print(a)"
   ]
  },
  {
   "cell_type": "markdown",
   "metadata": {
    "colab_type": "text",
    "id": "EckFx6Tq1zZw"
   },
   "source": [
    "**Python NumPy Array v/s List:**\n",
    "\n",
    "We use python numpy array instead of a list because of the below three reasons:\n",
    "\n",
    "1. Less Memory\n",
    "2. Fast\n",
    "3. Convenient\n",
    "\n",
    "The very first reason to choose python numpy array is that it occupies less memory as compared to list. Then, it is pretty fast in terms of execution and at the same time it is very convenient to work with numpy. \n",
    "\n",
    "So these are the major advantages that python numpy array has over list."
   ]
  },
  {
   "cell_type": "code",
   "execution_count": null,
   "metadata": {
    "colab": {
     "base_uri": "https://localhost:8080/",
     "height": 51
    },
    "colab_type": "code",
    "executionInfo": {
     "elapsed": 1732,
     "status": "ok",
     "timestamp": 1546333309827,
     "user": {
      "displayName": "Charandeep Singh",
      "photoUrl": "https://lh6.googleusercontent.com/-9s807Yxbdv0/AAAAAAAAAAI/AAAAAAAADGs/-8kVo6tljBo/s64/photo.jpg",
      "userId": "12309980940287693275"
     },
     "user_tz": -330
    },
    "id": "0Pd0I2dxmG7L",
    "outputId": "e88f378d-db92-4b69-88e1-3c6e1a943f97"
   },
   "outputs": [
    {
     "name": "stdout",
     "output_type": "stream",
     "text": [
      "48000\n",
      "8000\n"
     ]
    }
   ],
   "source": [
    "import numpy as np\n",
    "\n",
    "import time \n",
    "import sys\n",
    "\n",
    "r = range(1000)\n",
    "print (sys.getsizeof(r)*len(r))\n",
    "\n",
    "a= np.arange(1000)\n",
    "print(a.itemsize * a.size)"
   ]
  },
  {
   "cell_type": "markdown",
   "metadata": {
    "colab_type": "text",
    "id": "NOT-FJ1v3zY3"
   },
   "source": [
    "# **Python NumPy Operations**\n",
    "\n",
    "**1. ndim:**\n",
    "\n",
    "You can find the dimension of the array, whether it is a two-dimensional array or a single dimensional array."
   ]
  },
  {
   "cell_type": "code",
   "execution_count": null,
   "metadata": {
    "colab": {
     "base_uri": "https://localhost:8080/",
     "height": 34
    },
    "colab_type": "code",
    "executionInfo": {
     "elapsed": 1067,
     "status": "ok",
     "timestamp": 1546119049339,
     "user": {
      "displayName": "Charandeep Singh",
      "photoUrl": "https://lh6.googleusercontent.com/-9s807Yxbdv0/AAAAAAAAAAI/AAAAAAAADGs/-8kVo6tljBo/s64/photo.jpg",
      "userId": "12309980940287693275"
     },
     "user_tz": -330
    },
    "id": "RgRa7f-B4GEP",
    "outputId": "68096d0f-bbfe-45c4-97c9-910d436745b7"
   },
   "outputs": [
    {
     "name": "stdout",
     "output_type": "stream",
     "text": [
      "2\n"
     ]
    }
   ],
   "source": [
    "import numpy as np\n",
    "a = np.array([(1,2,3),(4,5,6)])\n",
    "print(a.ndim)"
   ]
  },
  {
   "cell_type": "markdown",
   "metadata": {
    "colab_type": "text",
    "id": "USRgs73u4KFw"
   },
   "source": [
    "**2. itemsize:**\n",
    "\n",
    "You can calculate the byte size of each element. In the below code, we can find the size of each element."
   ]
  },
  {
   "cell_type": "code",
   "execution_count": null,
   "metadata": {
    "colab": {
     "base_uri": "https://localhost:8080/",
     "height": 34
    },
    "colab_type": "code",
    "executionInfo": {
     "elapsed": 939,
     "status": "ok",
     "timestamp": 1546119185088,
     "user": {
      "displayName": "Charandeep Singh",
      "photoUrl": "https://lh6.googleusercontent.com/-9s807Yxbdv0/AAAAAAAAAAI/AAAAAAAADGs/-8kVo6tljBo/s64/photo.jpg",
      "userId": "12309980940287693275"
     },
     "user_tz": -330
    },
    "id": "AmFtfQOV4NgS",
    "outputId": "e0b45665-3f1c-4b5a-ea9e-e1182ff028db"
   },
   "outputs": [
    {
     "name": "stdout",
     "output_type": "stream",
     "text": [
      "8\n"
     ]
    }
   ],
   "source": [
    "import numpy as np\n",
    "b = np.array([(1.0,2.0)])\n",
    "print(b.itemsize)"
   ]
  },
  {
   "cell_type": "markdown",
   "metadata": {
    "colab_type": "text",
    "id": "u5_X5roN4thX"
   },
   "source": [
    "**3. dtype:**\n",
    "\n",
    "You can find the data type of the elements that are stored in an array. So, if you want to know the data type of a particular element, you can use ‘dtype’ function which will print the datatype along with the size."
   ]
  },
  {
   "cell_type": "code",
   "execution_count": null,
   "metadata": {
    "colab": {
     "base_uri": "https://localhost:8080/",
     "height": 34
    },
    "colab_type": "code",
    "executionInfo": {
     "elapsed": 963,
     "status": "ok",
     "timestamp": 1546119233459,
     "user": {
      "displayName": "Charandeep Singh",
      "photoUrl": "https://lh6.googleusercontent.com/-9s807Yxbdv0/AAAAAAAAAAI/AAAAAAAADGs/-8kVo6tljBo/s64/photo.jpg",
      "userId": "12309980940287693275"
     },
     "user_tz": -330
    },
    "id": "CmoaAY9m4yAQ",
    "outputId": "6d90c939-310d-4080-81f3-1aa69a61e76b"
   },
   "outputs": [
    {
     "name": "stdout",
     "output_type": "stream",
     "text": [
      "int64\n"
     ]
    }
   ],
   "source": [
    "import numpy as np\n",
    "a = np.array([(1,2,3)])\n",
    "print(a.dtype)"
   ]
  },
  {
   "cell_type": "markdown",
   "metadata": {
    "colab_type": "text",
    "id": "Zzd2oclf464X"
   },
   "source": [
    "**4. size:**\n",
    "\n",
    "Gets the total number of elements present in a given list."
   ]
  },
  {
   "cell_type": "code",
   "execution_count": null,
   "metadata": {
    "colab": {
     "base_uri": "https://localhost:8080/",
     "height": 34
    },
    "colab_type": "code",
    "executionInfo": {
     "elapsed": 1310,
     "status": "ok",
     "timestamp": 1546332822504,
     "user": {
      "displayName": "Charandeep Singh",
      "photoUrl": "https://lh6.googleusercontent.com/-9s807Yxbdv0/AAAAAAAAAAI/AAAAAAAADGs/-8kVo6tljBo/s64/photo.jpg",
      "userId": "12309980940287693275"
     },
     "user_tz": -330
    },
    "id": "Pc74OjZa5KOi",
    "outputId": "60d11808-a901-43d7-d640-6cf4dac2d596"
   },
   "outputs": [
    {
     "name": "stdout",
     "output_type": "stream",
     "text": [
      "4\n"
     ]
    }
   ],
   "source": [
    "import numpy as np\n",
    "a = np.array([(2,3,4,5)])\n",
    "print(a.size)"
   ]
  },
  {
   "cell_type": "markdown",
   "metadata": {
    "colab_type": "text",
    "id": "qJCiwsU85vic"
   },
   "source": [
    "**5. shape:**\n",
    "\n",
    "Gives number of rows and column in a given list."
   ]
  },
  {
   "cell_type": "code",
   "execution_count": null,
   "metadata": {
    "colab": {
     "base_uri": "https://localhost:8080/",
     "height": 34
    },
    "colab_type": "code",
    "executionInfo": {
     "elapsed": 1113,
     "status": "ok",
     "timestamp": 1546617065197,
     "user": {
      "displayName": "Charandeep Singh",
      "photoUrl": "https://lh6.googleusercontent.com/-9s807Yxbdv0/AAAAAAAAAAI/AAAAAAAADGs/-8kVo6tljBo/s64/photo.jpg",
      "userId": "12309980940287693275"
     },
     "user_tz": -330
    },
    "id": "Yu4hdAQi56AA",
    "outputId": "6a0e811e-c46b-4066-e914-68463007e712"
   },
   "outputs": [
    {
     "name": "stdout",
     "output_type": "stream",
     "text": [
      "(1, 5)\n"
     ]
    }
   ],
   "source": [
    "import numpy as np\n",
    "a = np.array([(1,2,3,4,5)])\n",
    "print(a.shape)"
   ]
  },
  {
   "cell_type": "markdown",
   "metadata": {
    "colab_type": "text",
    "id": "rNAXC98K6F_-"
   },
   "source": [
    "**6. reshape:**\n",
    "\n",
    "When you change the number of rows and columns which gives a new view to an object. "
   ]
  },
  {
   "cell_type": "code",
   "execution_count": null,
   "metadata": {
    "colab": {
     "base_uri": "https://localhost:8080/",
     "height": 170
    },
    "colab_type": "code",
    "executionInfo": {
     "elapsed": 895,
     "status": "ok",
     "timestamp": 1575312276863,
     "user": {
      "displayName": "Charandeep Singh",
      "photoUrl": "https://lh3.googleusercontent.com/a-/AAuE7mDJQaf9BHvx8z07MLa1IleXr0zjtIHUpXW_rl4UiA=s64",
      "userId": "12309980940287693275"
     },
     "user_tz": -330
    },
    "id": "5HwrC-kq6g-m",
    "outputId": "ffd69bda-3742-4cc0-b356-3a003755f42d"
   },
   "outputs": [
    {
     "name": "stdout",
     "output_type": "stream",
     "text": [
      "[[ 1  2  3  4]\n",
      " [11 12 13  1]\n",
      " [ 3  5  6  0]]\n",
      "[[ 1  2]\n",
      " [ 3  4]\n",
      " [11 12]\n",
      " [13  1]\n",
      " [ 3  5]\n",
      " [ 6  0]]\n"
     ]
    }
   ],
   "source": [
    "import numpy as np\n",
    "a = np.array([(1,2,3,4),(11,12,13,1),(3,5,6,0)])\n",
    "print(a)\n",
    "a=a.reshape(6,2)\n",
    "print(a)"
   ]
  },
  {
   "cell_type": "markdown",
   "metadata": {
    "colab_type": "text",
    "id": "Aj_AHsn964JN"
   },
   "source": [
    "**7. slicing:**\n",
    "\n",
    "Slicing is basically extracting particular set of elements from an array. "
   ]
  },
  {
   "cell_type": "code",
   "execution_count": null,
   "metadata": {
    "colab": {
     "base_uri": "https://localhost:8080/",
     "height": 34
    },
    "colab_type": "code",
    "executionInfo": {
     "elapsed": 1007,
     "status": "ok",
     "timestamp": 1546617091220,
     "user": {
      "displayName": "Charandeep Singh",
      "photoUrl": "https://lh6.googleusercontent.com/-9s807Yxbdv0/AAAAAAAAAAI/AAAAAAAADGs/-8kVo6tljBo/s64/photo.jpg",
      "userId": "12309980940287693275"
     },
     "user_tz": -330
    },
    "id": "XJzQgSDc7Ang",
    "outputId": "966ef350-ed8d-421f-a8cb-95fec2aa1c00"
   },
   "outputs": [
    {
     "name": "stdout",
     "output_type": "stream",
     "text": [
      "[2 3 4]\n"
     ]
    }
   ],
   "source": [
    "import numpy as np \n",
    "a = np.arange(10) \n",
    "print (a[2:5])\n"
   ]
  },
  {
   "cell_type": "markdown",
   "metadata": {
    "colab_type": "text",
    "id": "LgRcHzoa78W2"
   },
   "source": [
    "**8. max/ min:**\n",
    "\n",
    "Some more operations in numpy such as to find the minimum, maximum as well the sum of the numpy array. "
   ]
  },
  {
   "cell_type": "code",
   "execution_count": null,
   "metadata": {
    "colab": {
     "base_uri": "https://localhost:8080/",
     "height": 68
    },
    "colab_type": "code",
    "executionInfo": {
     "elapsed": 2555,
     "status": "ok",
     "timestamp": 1546120110321,
     "user": {
      "displayName": "Charandeep Singh",
      "photoUrl": "https://lh6.googleusercontent.com/-9s807Yxbdv0/AAAAAAAAAAI/AAAAAAAADGs/-8kVo6tljBo/s64/photo.jpg",
      "userId": "12309980940287693275"
     },
     "user_tz": -330
    },
    "id": "E25xuPVG8HFC",
    "outputId": "31164898-e7b2-435d-9e80-f6b1e01326e3"
   },
   "outputs": [
    {
     "name": "stdout",
     "output_type": "stream",
     "text": [
      "1\n",
      "3\n",
      "6\n"
     ]
    }
   ],
   "source": [
    "import numpy as np\n",
    " \n",
    "a= np.array([1,2,3])\n",
    "print(a.min())\n",
    "print(a.max())\n",
    "print(a.sum())"
   ]
  },
  {
   "cell_type": "markdown",
   "metadata": {
    "colab_type": "text",
    "id": "OLiMyHCA8PZl"
   },
   "source": [
    "**9. Square Root & Standard Deviation:**\n",
    "\n",
    "There are various mathematical functions that can be performed using python numpy. You can find the square root, standard deviation of the array."
   ]
  },
  {
   "cell_type": "code",
   "execution_count": null,
   "metadata": {
    "colab": {
     "base_uri": "https://localhost:8080/",
     "height": 51
    },
    "colab_type": "code",
    "executionInfo": {
     "elapsed": 913,
     "status": "ok",
     "timestamp": 1546120170521,
     "user": {
      "displayName": "Charandeep Singh",
      "photoUrl": "https://lh6.googleusercontent.com/-9s807Yxbdv0/AAAAAAAAAAI/AAAAAAAADGs/-8kVo6tljBo/s64/photo.jpg",
      "userId": "12309980940287693275"
     },
     "user_tz": -330
    },
    "id": "-t6gtrHG8TPl",
    "outputId": "49ac3671-81b6-421e-d079-78c7b008cfcd"
   },
   "outputs": [
    {
     "name": "stdout",
     "output_type": "stream",
     "text": [
      "[[1.         1.41421356 1.73205081]]\n",
      "0.816496580927726\n"
     ]
    }
   ],
   "source": [
    "import numpy as np\n",
    "a=np.array([(1,2,3)])\n",
    "print(np.sqrt(a))\n",
    "print(np.std(a))"
   ]
  },
  {
   "cell_type": "markdown",
   "metadata": {
    "colab_type": "text",
    "id": "RGcabUAB8h5g"
   },
   "source": [
    "# **Python Numpy Special Functions**\n",
    "\n",
    "There are various special functions available in numpy such as sine, cosine, tan, log etc.\n",
    "we need to import a module called matplotlib."
   ]
  },
  {
   "cell_type": "code",
   "execution_count": null,
   "metadata": {
    "colab": {
     "base_uri": "https://localhost:8080/",
     "height": 761
    },
    "colab_type": "code",
    "executionInfo": {
     "elapsed": 1607,
     "status": "ok",
     "timestamp": 1575312492970,
     "user": {
      "displayName": "Charandeep Singh",
      "photoUrl": "https://lh3.googleusercontent.com/a-/AAuE7mDJQaf9BHvx8z07MLa1IleXr0zjtIHUpXW_rl4UiA=s64",
      "userId": "12309980940287693275"
     },
     "user_tz": -330
    },
    "id": "7JeOqOxT84iu",
    "outputId": "626596a9-d215-4ee3-9c3e-35f26d39bdf0"
   },
   "outputs": [
    {
     "data": {
      "image/png": "[encoded data removed]",
      "text/plain": [
       "<Figure size 432x288 with 1 Axes>"
      ]
     },
     "metadata": {
      "tags": []
     },
     "output_type": "display_data"
    },
    {
     "data": {
      "image/png": "[encoded data removed]",
      "text/plain": [
       "<Figure size 432x288 with 1 Axes>"
      ]
     },
     "metadata": {
      "tags": []
     },
     "output_type": "display_data"
    },
    {
     "data": {
      "image/png": "[encoded data removed]",
      "text/plain": [
       "<Figure size 432x288 with 1 Axes>"
      ]
     },
     "metadata": {
      "tags": []
     },
     "output_type": "display_data"
    }
   ],
   "source": [
    "import numpy as np\n",
    "import matplotlib.pyplot as plt\n",
    "x= np.arange(0,3*np.pi,0.1)\n",
    "\n",
    "y=np.sin(x)\n",
    "z=np.cos(x)\n",
    "t=np.tan(x)\n",
    "\n",
    "plt.plot(x,y)\n",
    "plt.show()\n",
    "\n",
    "plt.plot(x,z)\n",
    "plt.show()\n",
    "\n",
    "plt.plot(x,t)\n",
    "plt.show()"
   ]
  },
  {
   "cell_type": "markdown",
   "metadata": {
    "colab_type": "text",
    "id": "e4Ejv5Q_9xGR"
   },
   "source": [
    "Some other special functionality in numpy array such as exponential and logarithmic function. "
   ]
  },
  {
   "cell_type": "code",
   "execution_count": null,
   "metadata": {
    "colab": {
     "base_uri": "https://localhost:8080/",
     "height": 513
    },
    "colab_type": "code",
    "executionInfo": {
     "elapsed": 1594,
     "status": "ok",
     "timestamp": 1575312702469,
     "user": {
      "displayName": "Charandeep Singh",
      "photoUrl": "https://lh3.googleusercontent.com/a-/AAuE7mDJQaf9BHvx8z07MLa1IleXr0zjtIHUpXW_rl4UiA=s64",
      "userId": "12309980940287693275"
     },
     "user_tz": -330
    },
    "id": "ZtPuCTx79yx2",
    "outputId": "0c68d380-68e7-4d84-99d6-0f0a8bd7a035"
   },
   "outputs": [
    {
     "data": {
      "image/png": "[encoded data removed]",
      "text/plain": [
       "<Figure size 432x288 with 1 Axes>"
      ]
     },
     "metadata": {
      "tags": []
     },
     "output_type": "display_data"
    },
    {
     "data": {
      "image/png": "[encoded data removed]",
      "text/plain": [
       "<Figure size 432x288 with 1 Axes>"
      ]
     },
     "metadata": {
      "tags": []
     },
     "output_type": "display_data"
    }
   ],
   "source": [
    "import numpy as np\n",
    "import matplotlib.pyplot as plt\n",
    "a= np.array([1,2,3])\n",
    "plt.plot(np.exp(a))\n",
    "plt.show()\n",
    "plt.plot(np.log(a))\n",
    "plt.show()"
   ]
  },
  {
   "cell_type": "markdown",
   "metadata": {
    "colab_type": "text",
    "id": "t9vpBZFr_EhS"
   },
   "source": [
    "\n",
    "\n",
    "---\n",
    "\n"
   ]
  },
  {
   "cell_type": "markdown",
   "metadata": {
    "colab_type": "text",
    "id": "ZCtYLbsw-nCU"
   },
   "source": [
    "# **What is Python Pandas?**\n",
    "\n",
    "Pandas is used for data manipulation, analysis and cleaning. \n",
    "\n",
    "Python pandas is well suited for different kinds of data, such as: \n",
    "\n",
    "* Tabular data with heterogeneously-typed columns\n",
    "* Ordered and unordered time series data\n",
    "* Arbitrary matrix data with row & column labels\n",
    "* Unlabelled data\n",
    "* Any other form of observational or statistical data sets"
   ]
  },
  {
   "cell_type": "markdown",
   "metadata": {
    "colab_type": "text",
    "id": "GUE7Pizd-_-1"
   },
   "source": [
    "# **Python Pandas Operations**\n",
    "\n",
    "Using Python pandas, you can perform a lot of operations with series, data frames, missing data, group by etc."
   ]
  },
  {
   "cell_type": "markdown",
   "metadata": {
    "colab_type": "text",
    "id": "JSg9RubB_OEC"
   },
   "source": [
    "**Slicing the Data Frame**\n",
    "\n",
    "In order to perform slicing on data, you need a data frame.\n",
    "\n",
    "Data frame is a 2-dimensional data structure and a most common pandas object. Dictionary will be converted into a pandas Data Frame along with index to the left."
   ]
  },
  {
   "cell_type": "code",
   "execution_count": null,
   "metadata": {
    "colab": {
     "base_uri": "https://localhost:8080/",
     "height": 136
    },
    "colab_type": "code",
    "executionInfo": {
     "elapsed": 1082,
     "status": "ok",
     "timestamp": 1592595090742,
     "user": {
      "displayName": "Charandeep Singh",
      "photoUrl": "https://lh3.googleusercontent.com/a-/AOh14GhRKvngWFZ9sfYQDSeuBrSlcMu447IiP4FmYZVzfA=s64",
      "userId": "12309980940287693275"
     },
     "user_tz": -330
    },
    "id": "PSYDnO81_XvN",
    "outputId": "1f617990-0ae9-4dd6-975e-31167c90123f"
   },
   "outputs": [
    {
     "name": "stdout",
     "output_type": "stream",
     "text": [
      "   Day  Visitors  Bounce_Rate\n",
      "0    1      1000           20\n",
      "1    2       700           20\n",
      "2    3      6000           23\n",
      "3    4      1000           15\n",
      "4    5       400           10\n",
      "5    6       350           34\n"
     ]
    }
   ],
   "source": [
    "import pandas as pd\n",
    " \n",
    "XYZ_web= {'Day':[1,2,3,4,5,6], \"Visitors\":[1000, 700,6000,1000,400,350], \"Bounce_Rate\":[20,20, 23,15,10,34]}\n",
    " \n",
    "df= pd.DataFrame(XYZ_web)\n",
    " \n",
    "print(df)"
   ]
  },
  {
   "cell_type": "code",
   "execution_count": null,
   "metadata": {
    "colab": {
     "base_uri": "https://localhost:8080/",
     "height": 136
    },
    "colab_type": "code",
    "executionInfo": {
     "elapsed": 951,
     "status": "ok",
     "timestamp": 1546121142891,
     "user": {
      "displayName": "Charandeep Singh",
      "photoUrl": "https://lh6.googleusercontent.com/-9s807Yxbdv0/AAAAAAAAAAI/AAAAAAAADGs/-8kVo6tljBo/s64/photo.jpg",
      "userId": "12309980940287693275"
     },
     "user_tz": -330
    },
    "id": "pbJTnzppAB_r",
    "outputId": "91adb1be-0baa-48bd-e78a-06a417852faf"
   },
   "outputs": [
    {
     "name": "stdout",
     "output_type": "stream",
     "text": [
      "   Bounce_Rate  Day  Visitors\n",
      "0           20    1      1000\n",
      "1           20    2       700\n",
      "   Bounce_Rate  Day  Visitors\n",
      "3           15    4      1000\n",
      "4           10    5       400\n",
      "5           34    6       350\n"
     ]
    }
   ],
   "source": [
    "print(df.head(2))\n",
    "print (df.tail(3))"
   ]
  },
  {
   "cell_type": "markdown",
   "metadata": {
    "colab_type": "text",
    "id": "qz0NLOuzAShF"
   },
   "source": [
    "**Merging & Joining**\n",
    "\n",
    "In merging, you can merge two data frames to form a single data frame. You can also decide which columns you want to make common."
   ]
  },
  {
   "cell_type": "code",
   "execution_count": null,
   "metadata": {
    "colab": {
     "base_uri": "https://localhost:8080/",
     "height": 187
    },
    "colab_type": "code",
    "executionInfo": {
     "elapsed": 959,
     "status": "ok",
     "timestamp": 1546283752143,
     "user": {
      "displayName": "Charandeep Singh",
      "photoUrl": "https://lh6.googleusercontent.com/-9s807Yxbdv0/AAAAAAAAAAI/AAAAAAAADGs/-8kVo6tljBo/s64/photo.jpg",
      "userId": "12309980940287693275"
     },
     "user_tz": -330
    },
    "id": "gQOVPO4lAUuF",
    "outputId": "c5899ecc-95ea-40e6-e7ad-21c4a6c6f3b6"
   },
   "outputs": [
    {
     "name": "stdout",
     "output_type": "stream",
     "text": [
      "   GDP  HP  Rate\n",
      "0   50  80     2\n",
      "1   45  90     1\n",
      "2   45  70     2\n",
      "3   67  60     3\n",
      "   GDP_x  HP  Rate_x  GDP_y  Rate_y\n",
      "0     50  80       2     50       2\n",
      "1     45  90       1     45       1\n",
      "2     45  70       2     45       2\n",
      "3     67  60       3     67       3\n"
     ]
    }
   ],
   "source": [
    "import pandas as pd\n",
    " \n",
    "df1= pd.DataFrame({ \"HP\":[80,90,70,60],\"Rate\":[2,1,2,3],\"GDP\":[50,45,45,67]}, index=[2001, 2002,2003,2004])\n",
    " \n",
    "df2= pd.DataFrame({ \"HP\":[80,90,70,60],\"Rate\":[2,1,2,3],\"GDP\":[50,45,45,67]}, index=[2005, 2006,2007,2008])\n",
    " \n",
    "merged= pd.merge(df1,df2)\n",
    " \n",
    "print(merged) #before merging according to attribute\n",
    "\n",
    "merged= pd.merge(df1,df2, on=\"HP\")\n",
    "\n",
    "print (merged) #after merging according to attribute"
   ]
  },
  {
   "cell_type": "markdown",
   "metadata": {
    "colab_type": "text",
    "id": "twLf4ZsQA_bP"
   },
   "source": [
    "joining is yet another convenient method to combine two differently indexed dataframes into a single result dataframe. \n",
    "\n",
    "This is quite similar to the “merge” operation, except the joining operation will be on the “index” instead of  the “columns”."
   ]
  },
  {
   "cell_type": "code",
   "execution_count": null,
   "metadata": {
    "colab": {
     "base_uri": "https://localhost:8080/",
     "height": 119
    },
    "colab_type": "code",
    "executionInfo": {
     "elapsed": 958,
     "status": "ok",
     "timestamp": 1546283926306,
     "user": {
      "displayName": "Charandeep Singh",
      "photoUrl": "https://lh6.googleusercontent.com/-9s807Yxbdv0/AAAAAAAAAAI/AAAAAAAADGs/-8kVo6tljBo/s64/photo.jpg",
      "userId": "12309980940287693275"
     },
     "user_tz": -330
    },
    "id": "V0P3jvXnBIa7",
    "outputId": "e01a4bd2-042d-4ffa-e632-73dd6eb1b876"
   },
   "outputs": [
    {
     "name": "stdout",
     "output_type": "stream",
     "text": [
      "      GDP  Rate  Low_HP  Unemployment\n",
      "2001   50     2    50.0           1.0\n",
      "2002   45     1     NaN           NaN\n",
      "2003   45     2    45.0           3.0\n",
      "2004   67     3    67.0           5.0\n",
      "2004   67     3    34.0           6.0\n"
     ]
    }
   ],
   "source": [
    "df1 = pd.DataFrame({\"Rate\":[2,1,2,3], \"GDP\":[50,45,45,67]}, index=[2001, 2002,2003,2004])\n",
    " \n",
    "df2 = pd.DataFrame({\"Low_HP\":[50,45,67,34],\"Unemployment\":[1,3,5,6]}, index=[2001, 2003,2004,2004])\n",
    " \n",
    "joined= df1.join(df2)\n",
    "print(joined)"
   ]
  },
  {
   "cell_type": "markdown",
   "metadata": {
    "colab_type": "text",
    "id": "JIkSmFegBuul"
   },
   "source": [
    "**Concatenation **\n",
    "\n",
    "Concatenation basically glues the dataframes together. You can select the dimension on which you want to concatenate."
   ]
  },
  {
   "cell_type": "code",
   "execution_count": null,
   "metadata": {
    "colab": {
     "base_uri": "https://localhost:8080/",
     "height": 170
    },
    "colab_type": "code",
    "executionInfo": {
     "elapsed": 942,
     "status": "ok",
     "timestamp": 1546121592114,
     "user": {
      "displayName": "Charandeep Singh",
      "photoUrl": "https://lh6.googleusercontent.com/-9s807Yxbdv0/AAAAAAAAAAI/AAAAAAAADGs/-8kVo6tljBo/s64/photo.jpg",
      "userId": "12309980940287693275"
     },
     "user_tz": -330
    },
    "id": "p8Voqn6PBxjP",
    "outputId": "b61e98c7-3f4f-4845-bb87-8fc6043d05b9"
   },
   "outputs": [
    {
     "name": "stdout",
     "output_type": "stream",
     "text": [
      "      HPI  IND_GDP  Int_Rate\n",
      "2001   80       50         2\n",
      "2002   90       45         1\n",
      "2003   70       45         2\n",
      "2004   60       67         3\n",
      "2005   80       50         2\n",
      "2006   90       45         1\n",
      "2007   70       45         2\n",
      "2008   60       67         3\n"
     ]
    }
   ],
   "source": [
    "df1 = pd.DataFrame({\"HPI\":[80,90,70,60],\"Int_Rate\":[2,1,2,3], \"IND_GDP\":[50,45,45,67]}, index=[2001, 2002,2003,2004])\n",
    " \n",
    "df2 = pd.DataFrame({\"HPI\":[80,90,70,60],\"Int_Rate\":[2,1,2,3],\"IND_GDP\":[50,45,45,67]}, index=[2005, 2006,2007,2008])\n",
    " \n",
    "concat= pd.concat([df1,df2])\n",
    " \n",
    "print(concat)"
   ]
  },
  {
   "cell_type": "code",
   "execution_count": null,
   "metadata": {
    "colab": {
     "base_uri": "https://localhost:8080/",
     "height": 170
    },
    "colab_type": "code",
    "executionInfo": {
     "elapsed": 1008,
     "status": "ok",
     "timestamp": 1546284210434,
     "user": {
      "displayName": "Charandeep Singh",
      "photoUrl": "https://lh6.googleusercontent.com/-9s807Yxbdv0/AAAAAAAAAAI/AAAAAAAADGs/-8kVo6tljBo/s64/photo.jpg",
      "userId": "12309980940287693275"
     },
     "user_tz": -330
    },
    "id": "rN8mgGoOB-2M",
    "outputId": "8e59d8cd-005b-4674-e9e7-97bb60685502"
   },
   "outputs": [
    {
     "name": "stdout",
     "output_type": "stream",
     "text": [
      "       HPI  IND_GDP  Int_Rate   HPI  IND_GDP  Int_Rate\n",
      "2001  80.0     50.0       2.0   NaN      NaN       NaN\n",
      "2002  90.0     45.0       1.0   NaN      NaN       NaN\n",
      "2003  70.0     45.0       2.0   NaN      NaN       NaN\n",
      "2004  60.0     67.0       3.0   NaN      NaN       NaN\n",
      "2005   NaN      NaN       NaN  80.0     50.0       2.0\n",
      "2006   NaN      NaN       NaN  90.0     45.0       1.0\n",
      "2007   NaN      NaN       NaN  70.0     45.0       2.0\n",
      "2008   NaN      NaN       NaN  60.0     67.0       3.0\n"
     ]
    }
   ],
   "source": [
    "#you can define axis in concat function\n",
    "\n",
    "df1 = pd.DataFrame({\"HPI\":[80,90,70,60],\"Int_Rate\":[2,1,2,3], \"IND_GDP\":[50,45,45,67]}, index=[2001, 2002,2003,2004])\n",
    " \n",
    "df2 = pd.DataFrame({\"HPI\":[80,90,70,60],\"Int_Rate\":[2,1,2,3],\"IND_GDP\":[50,45,45,67]}, index=[2005, 2006,2007,2008])\n",
    " \n",
    "concat= pd.concat([df1,df2],axis=1)\n",
    " \n",
    "print(concat)"
   ]
  },
  {
   "cell_type": "markdown",
   "metadata": {
    "colab_type": "text",
    "id": "qGwIO7HHCMi7"
   },
   "source": [
    "**Change the index**\n",
    "\n",
    "Changing the index values in a dataframe. "
   ]
  },
  {
   "cell_type": "code",
   "execution_count": null,
   "metadata": {
    "colab": {
     "base_uri": "https://localhost:8080/",
     "height": 204
    },
    "colab_type": "code",
    "executionInfo": {
     "elapsed": 1183,
     "status": "ok",
     "timestamp": 1546284254012,
     "user": {
      "displayName": "Charandeep Singh",
      "photoUrl": "https://lh6.googleusercontent.com/-9s807Yxbdv0/AAAAAAAAAAI/AAAAAAAADGs/-8kVo6tljBo/s64/photo.jpg",
      "userId": "12309980940287693275"
     },
     "user_tz": -330
    },
    "id": "NJs5yoyVCSN8",
    "outputId": "f75c6c39-f789-4d5d-a7f2-9c59d20b47e2"
   },
   "outputs": [
    {
     "name": "stdout",
     "output_type": "stream",
     "text": [
      "   Bounce_Rate  Day  Visitors\n",
      "0           20    1       200\n",
      "1           45    2       100\n",
      "2           60    3       230\n",
      "3           10    4       300\n",
      "     Bounce_Rate  Visitors\n",
      "Day                       \n",
      "1             20       200\n",
      "2             45       100\n",
      "3             60       230\n",
      "4             10       300\n"
     ]
    }
   ],
   "source": [
    "import pandas as pd\n",
    " \n",
    "df= pd.DataFrame({\"Day\":[1,2,3,4], \"Visitors\":[200, 100,230,300], \"Bounce_Rate\":[20,45,60,10]}) \n",
    "\n",
    "print (df)\n",
    " \n",
    "df.set_index(\"Day\", inplace= True)\n",
    " \n",
    "print(df)"
   ]
  },
  {
   "cell_type": "markdown",
   "metadata": {
    "colab_type": "text",
    "id": "Zow8jKiwCaW7"
   },
   "source": [
    "**Change the Column Headers**\n",
    "\n",
    "Changing the headers of column in this python pandas"
   ]
  },
  {
   "cell_type": "code",
   "execution_count": null,
   "metadata": {
    "colab": {
     "base_uri": "https://localhost:8080/",
     "height": 187
    },
    "colab_type": "code",
    "executionInfo": {
     "elapsed": 974,
     "status": "ok",
     "timestamp": 1546284319171,
     "user": {
      "displayName": "Charandeep Singh",
      "photoUrl": "https://lh6.googleusercontent.com/-9s807Yxbdv0/AAAAAAAAAAI/AAAAAAAADGs/-8kVo6tljBo/s64/photo.jpg",
      "userId": "12309980940287693275"
     },
     "user_tz": -330
    },
    "id": "LIR-TCrwCh_i",
    "outputId": "892a2fd2-d595-4b03-9363-9b3721ff3e68"
   },
   "outputs": [
    {
     "name": "stdout",
     "output_type": "stream",
     "text": [
      "   Bounce_Rate  Day  Visitors\n",
      "0           20    1       200\n",
      "1           45    2       100\n",
      "2           60    3       230\n",
      "3           10    4       300\n",
      "   Bounce_Rate  Day  Users\n",
      "0           20    1    200\n",
      "1           45    2    100\n",
      "2           60    3    230\n",
      "3           10    4    300\n"
     ]
    }
   ],
   "source": [
    "import pandas as pd\n",
    " \n",
    "df = pd.DataFrame({\"Day\":[1,2,3,4], \"Visitors\":[200, 100,230,300], \"Bounce_Rate\":[20,45,60,10]})\n",
    "\n",
    "print (df)\n",
    " \n",
    "df = df.rename(columns={\"Visitors\":\"Users\"})\n",
    " \n",
    "print(df)\n"
   ]
  }
 ],
 "metadata": {
  "colab": {
   "collapsed_sections": [
    "ZCtYLbsw-nCU",
    "HQ3Gpl4DvHW2",
    "N5G5aM-1vssF"
   ],
   "name": "Numpy and Pandas",
   "provenance": [
    {
     "file_id": "1JyLcARbqKQaJrb-Rl3Y128p7ForZM2nO",
     "timestamp": 1599483402596
    }
   ]
  },
  "kernelspec": {
   "display_name": "Python 3",
   "language": "python",
   "name": "python3"
  },
  "language_info": {
   "codemirror_mode": {
    "name": "ipython",
    "version": 3
   },
   "file_extension": ".py",
   "mimetype": "text/x-python",
   "name": "python",
   "nbconvert_exporter": "python",
   "pygments_lexer": "ipython3",
   "version": "3.7.6"
  }
 },
 "nbformat": 4,
 "nbformat_minor": 1
}
